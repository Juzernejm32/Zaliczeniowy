{
  "nbformat": 4,
  "nbformat_minor": 0,
  "metadata": {
    "colab": {
      "provenance": []
    },
    "kernelspec": {
      "name": "python3",
      "display_name": "Python 3"
    },
    "language_info": {
      "name": "python"
    }
  },
  "cells": [
    {
      "cell_type": "markdown",
      "source": [
        "Dane wykorzystane do zadania: \"dane3\""
      ],
      "metadata": {
        "id": "FHP3cJ3yCDtJ"
      }
    },
    {
      "cell_type": "code",
      "execution_count": null,
      "metadata": {
        "id": "w0tdTXrwWaIF"
      },
      "outputs": [],
      "source": [
        "!pip install spacy -U\n",
        "!python -m spacy download pl_core_news_lg\n",
        "import spacy as sp\n",
        "nlp = sp.load(\"pl_core_news_lg\")"
      ]
    },
    {
      "cell_type": "code",
      "source": [
        "import pandas as pd\n",
        "import numpy\n",
        "import matplotlib as plt"
      ],
      "metadata": {
        "id": "McVAvNJYBQ4h"
      },
      "execution_count": 1,
      "outputs": []
    },
    {
      "cell_type": "code",
      "source": [
        "df_dane = pd.read_csv(\"/content/dane3.csv\")"
      ],
      "metadata": {
        "id": "PTlHsQoZDm-J"
      },
      "execution_count": 30,
      "outputs": []
    },
    {
      "cell_type": "code",
      "source": [
        "print(df_dane[\"created_at\"].to_string())\n",
        "# print(df_dane.dtypes)"
      ],
      "metadata": {
        "id": "TQP9QobrFBx5"
      },
      "execution_count": null,
      "outputs": []
    },
    {
      "cell_type": "markdown",
      "source": [
        "Część 1 - przetwarzanie i oczyszczanie danych"
      ],
      "metadata": {
        "id": "lAOqRVpzC_CQ"
      }
    },
    {
      "cell_type": "code",
      "source": [
        "# potrzebne do zadania funkcje, listy i inne\n",
        "def pl_names(name): # funkcja do zmiany nazw dni tygodnia na pl\n",
        "  if name[0:3] == \"Mon\":\n",
        "    return name.replace(\"Mon\",\"Poniedziałek\")\n",
        "  elif name[0:3] == \"Tue\":\n",
        "    return name.replace(\"Tue\",\"Wtorek\")\n",
        "  elif name[0:3] == \"Wed\":\n",
        "    return name.replace(\"Wed\",\"Środa\")\n",
        "  elif name[0:3] == \"Thu\":\n",
        "    return name.replace(\"Thu\",\"Czwartek\")\n",
        "  elif name[0:3] == \"Fri\":\n",
        "    return name.replace(\"Fri\",\"Piątek\")\n",
        "  elif name[0:3] == \"Sat\":\n",
        "    return name.replace(\"Sat\",\"Sobota\")\n",
        "  elif name[0:3] == \"Sun\":\n",
        "    return name.replace(\"Sun\",\"Niedziela\")\n",
        "\n",
        "months = {'Jan': '01', 'Feb': '02', 'Mar': '03', 'Apr': '04', 'May': '05', 'Jun': '06', 'Jul': '07', 'Aug': '08', 'Sep': '09', \"Oct\": '10', 'Nov': '11', 'Dec': '12'}\n",
        "def moth_changer(month): # funkcja do zmiany nazw miesięcy na liczby\n",
        "  for key,value in months.items():\n",
        "    is_this_month = month.find(key)\n",
        "    if is_this_month == -1:\n",
        "      pass\n",
        "    else:\n",
        "      return month.replace(key,value)\n",
        "def text_without_stopwords(text): # funkcja do usuwanie stopwordów\n",
        "  doc = nlp(text)\n",
        "  ls = []\n",
        "  for token in doc:\n",
        "    if not token.is_stop:\n",
        "        ls.append(token.text)\n",
        "  return \" \".join(ls)\n",
        "tweet_urls = []\n",
        "medias = []\n",
        "urls = []"
      ],
      "metadata": {
        "id": "tdsr3fHqCMfN"
      },
      "execution_count": null,
      "outputs": []
    },
    {
      "cell_type": "code",
      "source": [
        "# 1\n",
        "df_dane[\"created_at\"] = df_dane[\"created_at\"].apply(pl_names)\n",
        "print(df_dane[\"created_at\"].to_string())"
      ],
      "metadata": {
        "id": "XcQMhVyYJB9I"
      },
      "execution_count": null,
      "outputs": []
    },
    {
      "cell_type": "code",
      "source": [
        "# 2\n",
        "df_dane[\"created_at\"] = df_dane[\"created_at\"].apply(moth_changer)\n",
        "print(df_dane[\"created_at\"].to_string())"
      ],
      "metadata": {
        "id": "wpbrb6zAKnz5"
      },
      "execution_count": null,
      "outputs": []
    },
    {
      "cell_type": "code",
      "source": [
        "# 3\n",
        "for tweet_url in df_dane[\"tweet_url\"]:\n",
        "  if type(tweet_url) == str:\n",
        "    tweet_urls.append(tweet_url)\n",
        "print(tweet_urls)"
      ],
      "metadata": {
        "id": "9PNjXN8-wmUu"
      },
      "execution_count": null,
      "outputs": []
    },
    {
      "cell_type": "code",
      "source": [
        "# 4\n",
        "for url in df_dane[\"urls\"]:\n",
        "  if type(url) == str:\n",
        "    urls.append(url)\n",
        "print(urls)"
      ],
      "metadata": {
        "id": "USzb4WNluUQs"
      },
      "execution_count": null,
      "outputs": []
    },
    {
      "cell_type": "code",
      "source": [
        "# 5\n",
        "for media in df_dane[\"media\"]:\n",
        "  if type(media) == str:\n",
        "    medias.append(media)\n",
        "print(medias)"
      ],
      "metadata": {
        "id": "_QvhgTiHKonB"
      },
      "execution_count": null,
      "outputs": []
    },
    {
      "cell_type": "code",
      "source": [
        "# 6\n",
        "df_dane[\"text_without_stopwords\"] = df_dane[\"text\"].apply(text_without_stopwords)\n",
        "df_dane[\"text_without_stopwords\"]"
      ],
      "metadata": {
        "id": "FmgBQxG7xWck"
      },
      "execution_count": null,
      "outputs": []
    },
    {
      "cell_type": "markdown",
      "source": [
        "Część 2 - eksploracyjna analiza danych"
      ],
      "metadata": {
        "id": "0fMMKRy_10EU"
      }
    },
    {
      "cell_type": "code",
      "source": [
        "# potrzebne do zadania funkcje, listy i inne\n",
        "possibly_sensitive_row_numbers = df_dane[df_dane['possibly_sensitive'] == False].index\n",
        "print(possibly_sensitive_row_numbers)\n",
        "\n",
        "# sortowanie danych po kolumnie followers_count i wypisanie kolumny user_name z wiersza\n",
        "user_wtih_most_followers = df_dane.sort_values(by=\"user_followers_count\",ascending=False)[\"user_name\"].iloc[0]\n",
        "print(user_wtih_most_followers)\n",
        "\n",
        "# Wyznaczanie użytkownika z najwcześnej założonym kontem\n",
        "temp = df_dane[[\"user_created_at\",\"user_name\"]]\n",
        "pd.to_datetime(temp[\"user_created_at\"])\n",
        "earliest_user = temp.sort_values(by = \"user_created_at\",ascending = True).iloc[0][\"user_name\"]\n",
        "\n",
        "# Do zadania 7\n",
        "temp_2 = pd.to_datetime(df_dane[\"created_at\"])"
      ],
      "metadata": {
        "id": "vPYOTLHOLN38"
      },
      "execution_count": null,
      "outputs": []
    },
    {
      "cell_type": "code",
      "source": [
        "# 1\n",
        "df_dane = df_dane.sort_values(by=\"favorite_count\",ascending=False)\n",
        "print(df_dane[0:5].to_string())"
      ],
      "metadata": {
        "id": "gQFIhSEb15fu"
      },
      "execution_count": null,
      "outputs": []
    },
    {
      "cell_type": "code",
      "source": [
        "# 2\n",
        "df_dane = df_dane.sort_values(by=\"retweet_count\",ascending=False)\n",
        "print(df_dane[0:5].to_string())"
      ],
      "metadata": {
        "id": "eYakbeBQPrKS"
      },
      "execution_count": null,
      "outputs": []
    },
    {
      "cell_type": "code",
      "source": [
        "# 3\n",
        "print(df_dane[df_dane['possibly_sensitive'] == False][[\"tweet_url\",\"possibly_sensitive\"]])"
      ],
      "metadata": {
        "id": "jKjLR952RAjA"
      },
      "execution_count": null,
      "outputs": []
    },
    {
      "cell_type": "code",
      "source": [
        "# 4\n",
        "print(df_dane[df_dane[\"user_name\"] == earliest_user][[\"tweet_url\",\"user_name\"]])"
      ],
      "metadata": {
        "id": "sJHJVYoDuRyG"
      },
      "execution_count": null,
      "outputs": []
    },
    {
      "cell_type": "code",
      "source": [
        "# 5\n",
        "for index, tweet in df_dane.iterrows():\n",
        "  if str(tweet[\"user_name\"]) == str(user_wtih_most_followers):\n",
        "    print(\"Początek tweeta\")\n",
        "    print(tweet)\n",
        "    print(\"\")"
      ],
      "metadata": {
        "id": "mfNoZgUrxsbG"
      },
      "execution_count": null,
      "outputs": []
    },
    {
      "cell_type": "code",
      "source": [
        "# 6\n",
        "print(df_dane[df_dane[\"user_verified\"] == True][\"user_name\"].unique())"
      ],
      "metadata": {
        "id": "R51HLjKyvyug"
      },
      "execution_count": null,
      "outputs": []
    },
    {
      "cell_type": "code",
      "source": [
        "# 7\n",
        "# 0 - Poniedziałek, 1 - Wtorek, 2 - Środa, 3 - Czwartek, 4 - Piątek, 5 - Sobota, 6 - Niedziela\n",
        "import datetime as dt\n",
        "temp_2 = pd.to_datetime(df_dane[\"created_at\"])\n",
        "temp_2 = temp_2.dt.dayofweek\n",
        "df2 = temp_2.groupby(temp_2).count()\n",
        "print(df2.idxmax(),\"- sobota\")"
      ],
      "metadata": {
        "id": "jEDjpKp5xSbo"
      },
      "execution_count": null,
      "outputs": []
    },
    {
      "cell_type": "markdown",
      "source": [
        "Część 3 - przetwarzanie języka naturalnego"
      ],
      "metadata": {
        "id": "zUCfYvJs4VnZ"
      }
    },
    {
      "cell_type": "code",
      "source": [
        "# potrzebne do zadania funkcje, listy i inne\n",
        "\n",
        "# rozpoznawanie nazw osób\n",
        "def pnames(text):\n",
        "  doc = nlp(text)\n",
        "  names = []\n",
        "  for ent in doc.ents:\n",
        "    if str(ent.label_) == \"persName\" and str(ent) != \"AutoTweet\": # AitoTweet był najczęstszym błędem\n",
        "    # więc specjalnie zawsze sprawdzane czy tekst identyfikowany persName nie jest AutoTweet\n",
        "      names.append(str(ent))\n",
        "      print(str(ent)) # Sprawdzenie czy działa\n",
        "  return \", \".join(names)\n",
        "\n",
        "# rozpoznawanie miejsc\n",
        "def place_names(text):\n",
        "  doc = nlp(text)\n",
        "  names = []\n",
        "  for ent in doc.ents:\n",
        "    if str(ent.label_) == \"placeName\":\n",
        "      names.append(str(ent))\n",
        "      print(str(ent))\n",
        "  return \", \".join(names)\n",
        "\n",
        "# rozpoznawanie organizacaji\n",
        "def organizaion_names(text):\n",
        "  doc = nlp(text)\n",
        "  names = []\n",
        "  for ent in doc.ents:\n",
        "    if str(ent.label_) == \"orgName\":\n",
        "      names.append(str(ent))\n",
        "      print(str(ent))\n",
        "  return \", \".join(names)"
      ],
      "metadata": {
        "id": "GYWwaBkGMorw"
      },
      "execution_count": null,
      "outputs": []
    },
    {
      "cell_type": "code",
      "source": [
        "# 1\n",
        "df_dane[\"persons\"] = df_dane[\"text\"].apply(pnames)"
      ],
      "metadata": {
        "id": "zhgkjLeSMxUY"
      },
      "execution_count": null,
      "outputs": []
    },
    {
      "cell_type": "code",
      "source": [
        "# 2\n",
        "df_dane[\"places\"] = df_dane[\"text\"].apply(place_names)"
      ],
      "metadata": {
        "id": "4i8fKsXASBuZ"
      },
      "execution_count": null,
      "outputs": []
    },
    {
      "cell_type": "code",
      "source": [
        "# 3\n",
        "df_dane[\"organizations\"] = df_dane[\"text\"].apply(organizaion_names)"
      ],
      "metadata": {
        "id": "l8Fc7AGLTvjh"
      },
      "execution_count": null,
      "outputs": []
    },
    {
      "cell_type": "code",
      "source": [
        "df_dane.head(5)"
      ],
      "metadata": {
        "id": "QRJWQUcgUIpB"
      },
      "execution_count": null,
      "outputs": []
    },
    {
      "cell_type": "markdown",
      "source": [
        "Część 4 - rozwiązywanie problemów/umiejętność interpretowania dokumentacji\n"
      ],
      "metadata": {
        "id": "SQ5j6XFS4WQo"
      }
    },
    {
      "cell_type": "code",
      "source": [
        "# potrzebne do zadania funkcje, listy i inne\n",
        "import datetime as dt\n",
        "temp_2 = pd.to_datetime(df_dane[\"created_at\"])\n",
        "temp_2 = temp_2.dt.day_name()\n",
        "df2 = temp_2.groupby(temp_2).count().sort_values(ascending=True)\n",
        "print(df2)"
      ],
      "metadata": {
        "id": "nmrDtpqBZfkT",
        "colab": {
          "base_uri": "https://localhost:8080/"
        },
        "outputId": "cd5b557d-1dd8-4a11-9831-bd197a6b41b0"
      },
      "execution_count": 37,
      "outputs": [
        {
          "output_type": "stream",
          "name": "stdout",
          "text": [
            "created_at\n",
            "Monday       124\n",
            "Thursday     251\n",
            "Friday       277\n",
            "Wednesday    281\n",
            "Sunday       401\n",
            "Saturday     616\n",
            "Name: created_at, dtype: int64\n"
          ]
        }
      ]
    },
    {
      "cell_type": "code",
      "source": [
        "# 1\n",
        "\n",
        "df2.plot(kind = \"bar\", ylabel = \"Ilość tweetów\", xlabel = \"Dzień tygodnia\")"
      ],
      "metadata": {
        "colab": {
          "base_uri": "https://localhost:8080/",
          "height": 533
        },
        "id": "5Cf9CnZa_L3o",
        "outputId": "e9367d20-bd33-4b47-9496-fe8fb65f69a0"
      },
      "execution_count": 38,
      "outputs": [
        {
          "output_type": "execute_result",
          "data": {
            "text/plain": [
              "<Axes: xlabel='Dzień tygodnia', ylabel='Ilość tweetów'>"
            ]
          },
          "metadata": {},
          "execution_count": 38
        },
        {
          "output_type": "display_data",
          "data": {
            "text/plain": [
              "<Figure size 640x480 with 1 Axes>"
            ],
            "image/png": "[encoded data removed]"
          },
          "metadata": {}
        }
      ]
    }
  ]
}